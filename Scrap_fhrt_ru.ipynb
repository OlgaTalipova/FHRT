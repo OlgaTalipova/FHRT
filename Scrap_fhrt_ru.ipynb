{
 "cells": [
  {
   "cell_type": "code",
   "execution_count": 1,
   "id": "06a1a99c",
   "metadata": {},
   "outputs": [],
   "source": [
    "from selenium import webdriver\n",
    "from selenium.webdriver.chrome.service import Service\n",
    "from selenium.webdriver.common.by import By\n",
    "from selenium.webdriver.common.action_chains import ActionChains\n",
    "from selenium.webdriver.support.ui import WebDriverWait\n",
    "from selenium.webdriver.support import expected_conditions as EC\n",
    "from bs4 import BeautifulSoup\n",
    "import csv"
   ]
  },
  {
   "cell_type": "code",
   "execution_count": 3,
   "id": "aad07e24",
   "metadata": {},
   "outputs": [],
   "source": [
    "service = Service(executable_path=r\"C:\\Users\\TalipovaOV\\Datascrap\\chromedriver\")\n",
    "chrome_options = webdriver.ChromeOptions()\n",
    "chrome_options.add_argument(\"--headless\")\n",
    "chrome_options.add_argument(\"--no-sandbox\")\n",
    "driver = webdriver.Chrome(service=service, options=chrome_options)"
   ]
  },
  {
   "cell_type": "code",
   "execution_count": 4,
   "id": "648e4aad",
   "metadata": {},
   "outputs": [],
   "source": [
    "driver.get(\"https://fhrt.ru/palace\")\n",
    "card = driver.find_element(By.CSS_SELECTOR, '[class =\"palace-card col-12 col-sm-6\"]')\n"
   ]
  },
  {
   "cell_type": "code",
   "execution_count": 7,
   "id": "497f465e",
   "metadata": {},
   "outputs": [],
   "source": [
    "html = driver.page_source"
   ]
  },
  {
   "cell_type": "code",
   "execution_count": 10,
   "id": "e90f32d5",
   "metadata": {},
   "outputs": [],
   "source": [
    "driver.quit()"
   ]
  },
  {
   "cell_type": "code",
   "execution_count": 11,
   "id": "e556fa07",
   "metadata": {},
   "outputs": [],
   "source": [
    "soup = BeautifulSoup(html, 'lxml')"
   ]
  },
  {
   "cell_type": "code",
   "execution_count": 12,
   "id": "0918170e",
   "metadata": {},
   "outputs": [],
   "source": [
    "cards_list = soup.select_one('div.row.d-inline-flex')"
   ]
  },
  {
   "cell_type": "code",
   "execution_count": 17,
   "id": "aa2724a7",
   "metadata": {},
   "outputs": [],
   "source": [
    "cards = cards_list.select('div.palace-card.col-12.col-sm-6')"
   ]
  },
  {
   "cell_type": "code",
   "execution_count": 18,
   "id": "6783af44",
   "metadata": {},
   "outputs": [
    {
     "data": {
      "text/plain": [
       "<div class=\"palace-card col-12 col-sm-6\">\n",
       "<a name=\"palace8\"></a>\n",
       "<h2>г. Агрыз</h2>\n",
       "<div class=\"card\">\n",
       "<a href=\"https://fhrt.ru/palace/8\"><img alt=\"ЛД «Спутник»\" class=\"card-img-top\" src=\"https://fhrt.ru/storage/img/palace/agryz_spunik.jpg\"/></a>\n",
       "<div class=\"card-body\">\n",
       "<div class=\"card-title\"><a href=\"https://fhrt.ru/palace/8\">ЛД «Спутник»</a>\n",
       "</div>\n",
       "<div class=\"address\">г. Агрыз ул. Карла Маркса  д. 103б</div>\n",
       "<div class=\"phone\">+7 (8555) 2-34-20</div>\n",
       "<div class=\"row text-center\">\n",
       "<div class=\"col col-12 col-sm-6\">\n",
       "<div class=\"title\">Дата основания:</div>\n",
       "<div class=\"palace-card__data\">07.02.2008</div>\n",
       "</div>\n",
       "<div class=\"col col-12 col-sm-6\">\n",
       "<div class=\"title\">Кол-во мест:</div>\n",
       "<div class=\"palace-card__data\">350</div>\n",
       "</div>\n",
       "</div>\n",
       "</div>\n",
       "</div>\n",
       "</div>"
      ]
     },
     "execution_count": 18,
     "metadata": {},
     "output_type": "execute_result"
    }
   ],
   "source": [
    "cards[0]"
   ]
  },
  {
   "cell_type": "code",
   "execution_count": 19,
   "id": "5e3a1fda",
   "metadata": {},
   "outputs": [
    {
     "data": {
      "text/plain": [
       "38"
      ]
     },
     "execution_count": 19,
     "metadata": {},
     "output_type": "execute_result"
    }
   ],
   "source": [
    "len(cards)"
   ]
  },
  {
   "cell_type": "code",
   "execution_count": 95,
   "id": "fa49750b",
   "metadata": {},
   "outputs": [],
   "source": [
    "name = cards[1].select_one('div.card-title')"
   ]
  },
  {
   "cell_type": "code",
   "execution_count": 96,
   "id": "061947bc",
   "metadata": {},
   "outputs": [
    {
     "name": "stdout",
     "output_type": "stream",
     "text": [
      "Ледовый дворец спорта «Алтын алка»\n"
     ]
    }
   ],
   "source": [
    "print(name.text[:-1])"
   ]
  },
  {
   "cell_type": "code",
   "execution_count": 97,
   "id": "daaa3e93",
   "metadata": {},
   "outputs": [],
   "source": [
    "spec_info_list = []"
   ]
  },
  {
   "cell_type": "code",
   "execution_count": 98,
   "id": "bd8b624b",
   "metadata": {},
   "outputs": [],
   "source": [
    "for card in cards:\n",
    "    namec = card.select_one('div.card-title')\n",
    "    if not namec:\n",
    "        namec =\"\"\n",
    "    else:\n",
    "        namec = namec.text[:-1]\n",
    "\n",
    "    address = card.select_one(\"div.address\")  \n",
    "    if not address:\n",
    "        address = \"\"\n",
    "    else:\n",
    "        address = address.text\n",
    "\n",
    "    phone = card.select_one(\"div.phone\")\n",
    "    if not phone:\n",
    "        p = \"\"\n",
    "    else:\n",
    "        p = phone.text\n",
    "          \n",
    "    datas = card.select('div.palace-card__data')\n",
    "    if not datas:\n",
    "        os =\"\"\n",
    "        col=\"\"\n",
    "    else:\n",
    "        os = datas[0].text\n",
    "        col = datas[1].text\n",
    "    \n",
    "    spec_info_list.append({\n",
    "      \"name\": namec,\n",
    "      \"address\": address,\n",
    "      \"phone\": p,\n",
    "      \"osnovan\": os,\n",
    "      \"col\" : col\n",
    "     })"
   ]
  },
  {
   "cell_type": "code",
   "execution_count": 99,
   "id": "be462d65",
   "metadata": {},
   "outputs": [
    {
     "data": {
      "text/plain": [
       "[{'name': 'ЛД «Спутник»',\n",
       "  'address': 'г. Агрыз ул. Карла Маркса  д. 103б',\n",
       "  'phone': '+7 (8555) 2-34-20',\n",
       "  'osnovan': '07.02.2008',\n",
       "  'col': '350'},\n",
       " {'name': 'Ледовый дворец спорта «Алтын алка»',\n",
       "  'address': 'г. Азнакаево ул. М. Султангалиева, 21а',\n",
       "  'phone': '+7 (85592)7-30-56',\n",
       "  'osnovan': '08.12.2004',\n",
       "  'col': '1156'},\n",
       " {'name': 'МУ Ледовый дворец спорта «Лачын»',\n",
       "  'address': 'с. Актаныш ул.Аэропортовская д. 2А',\n",
       "  'phone': '8 (5552) 3-26-02',\n",
       "  'osnovan': '25.12.2005',\n",
       "  'col': '1000'},\n",
       " {'name': 'Ледовый стадион «Нефтяник»',\n",
       "  'address': 'г. Альметьевск ул. Белоглазова, 60А',\n",
       "  'phone': '+7 (8553)38-00-18',\n",
       "  'osnovan': '22.10.1967',\n",
       "  'col': '432'},\n",
       " {'name': 'ДС «Юбилейный»',\n",
       "  'address': 'г. Альметьевск ул. Белоглазова, 60',\n",
       "  'phone': '+7 (8553)32-49-83',\n",
       "  'osnovan': '01.12.1983',\n",
       "  'col': '2200'},\n",
       " {'name': 'ЛДС «Алтын Алка»',\n",
       "  'address': 'пгт. Апастово ул. Красноармейская, д. 65 В',\n",
       "  'phone': '8 (84376) 2-26-25',\n",
       "  'osnovan': '12.10.2012',\n",
       "  'col': '298'},\n",
       " {'name': 'ЛДС «Арча Арена»',\n",
       "  'address': 'г. Арск ул. Сибирский тракт дом 14 А',\n",
       "  'phone': '8 (84366) 3-57-04',\n",
       "  'osnovan': '01.09.2015',\n",
       "  'col': '292'},\n",
       " {'name': 'ЛДС «Девон»',\n",
       "  'address': 'г. Бавлы ул. С.Сайдашева д. 8.',\n",
       "  'phone': '+7 (85569) 4-09-61',\n",
       "  'osnovan': '12.10.2007',\n",
       "  'col': '1000'},\n",
       " {'name': 'Спортивный комплекс «Нарат»',\n",
       "  'address': 'пгт. Богатые Сабы ул. Автозаправочная 1, пос. Лесхоз',\n",
       "  'phone': '8 (84362) 4-41-76',\n",
       "  'osnovan': '01.12.2004',\n",
       "  'col': '300'},\n",
       " {'name': 'Ледовый дворец',\n",
       "  'address': 'г. Бугульма ул. Мусы Джалиля, д. 1',\n",
       "  'phone': '+7 (85594)6-23-37',\n",
       "  'osnovan': '05.09.2003',\n",
       "  'col': '1200'},\n",
       " {'name': 'ЛДС «Арктика»',\n",
       "  'address': 'г. Буинск ул. Ефремова д.128',\n",
       "  'phone': '8 (84374) 3-55-84',\n",
       "  'osnovan': '01.03.2007',\n",
       "  'col': '500'},\n",
       " {'name': 'ЛДС «Биектау»',\n",
       "  'address': 'с. Высокая гора ул. Центральная, д.1Б',\n",
       "  'phone': '8(84365)3-29-84/85',\n",
       "  'osnovan': '02.09.2013',\n",
       "  'col': '400'},\n",
       " {'name': 'Центр детского хоккея, ледовый дворец спорта',\n",
       "  'address': 'пгт. Джалиль ул. Лесная, 12',\n",
       "  'phone': '+7 (8555) 963-0-29',\n",
       "  'osnovan': '26.08.2001',\n",
       "  'col': '1016'},\n",
       " {'name': 'Ледовый Дворец',\n",
       "  'address': 'г. Елабуга ул. Тази Гиззата, 27',\n",
       "  'phone': '8 (85557) 3-43-32',\n",
       "  'osnovan': '01.09.2005',\n",
       "  'col': '1370'},\n",
       " {'name': 'ЛДС «Яшьлек»',\n",
       "  'address': 'г. Заинск пр.Победы, д.36',\n",
       "  'phone': '8 (85558) 7-41-56',\n",
       "  'osnovan': '27.08.2009',\n",
       "  'col': '1000'},\n",
       " {'name': 'ЛДС «Ледокол»',\n",
       "  'address': 'г. Зеленодольск ул. Проспект Строителей д. 21',\n",
       "  'phone': '8(843715)3-34-08',\n",
       "  'osnovan': '09.01.2008',\n",
       "  'col': '840'},\n",
       " {'name': 'Ледовый дворец спорта «Золотая Шайба»',\n",
       "  'address': 'г. Казань ул. Гаврилова, д 48а',\n",
       "  'phone': '8 (843) 223-08-45',\n",
       "  'osnovan': '09.10.2015',\n",
       "  'col': '200'},\n",
       " {'name': 'МУ «Спортивно-оздоровительный комплекс «Форвард»',\n",
       "  'address': 'г. Казань ул. Химиков, д.40',\n",
       "  'phone': '8 (843) 269 - 13 - 64',\n",
       "  'osnovan': '21.12.2009',\n",
       "  'col': '300'},\n",
       " {'name': 'МУ «Спортивно-оздоровительный комплекс «Триумф»',\n",
       "  'address': 'г. Казань ул. Олега Кошевого д.17',\n",
       "  'phone': '8 (843) 562-06-44',\n",
       "  'osnovan': '21.12.2009',\n",
       "  'col': '306'},\n",
       " {'name': 'МУ Спортивно-оздоровительный комплекс «Ватан»',\n",
       "  'address': 'г. Казань ул. Чуйкова, д 8 г.',\n",
       "  'phone': '8 (843) 562-06-50',\n",
       "  'osnovan': '05.05.2010',\n",
       "  'col': '300'},\n",
       " {'name': 'ЛДС «Баско»',\n",
       "  'address': 'г. Казань ул. Халтурина д.3',\n",
       "  'phone': '8 (843) 237-74-03',\n",
       "  'osnovan': '30.08.2008',\n",
       "  'col': '270'},\n",
       " {'name': 'ЛДС «Ак Буре»',\n",
       "  'address': 'г. Казань ул. Вагапова д.17',\n",
       "  'phone': '8 (843) 276-60-19',\n",
       "  'osnovan': '01.08.2005',\n",
       "  'col': '0'},\n",
       " {'name': 'МОУ ДОД ДЮСШ «Зилант»',\n",
       "  'address': 'г. Казань ул. Хусаина Мавлютова д.17в',\n",
       "  'phone': '8 (843) 224-23-22',\n",
       "  'osnovan': '22.10.2009',\n",
       "  'col': '1000'},\n",
       " {'name': 'ЛДС «Олимпия»',\n",
       "  'address': 'пгт. Камские Поляны ул. Садовая д.14',\n",
       "  'phone': '8 (8555)33-95-11',\n",
       "  'osnovan': '30.07.2008',\n",
       "  'col': '300'},\n",
       " {'name': 'ЛДС «ОЛИМП»',\n",
       "  'address': 'г. Кукмор ул.Ленина, д.37Б',\n",
       "  'phone': '8 (84364) 2-62-35',\n",
       "  'osnovan': '17.01.2009',\n",
       "  'col': '236'},\n",
       " {'name': 'Лаишево Арена',\n",
       "  'address': 'г. Лаишево г. Лаишево ул. Есенина д.2',\n",
       "  'phone': '',\n",
       "  'osnovan': '16.12.2020',\n",
       "  'col': ''},\n",
       " {'name': 'МУ «ЛДС»',\n",
       "  'address': 'г. Лениногорск ул. Лыжная д. 22',\n",
       "  'phone': '+7 (85595) 2-02-58',\n",
       "  'osnovan': '01.09.1997',\n",
       "  'col': '800'},\n",
       " {'name': 'ЛДС «Олимп»',\n",
       "  'address': 'г. Мамадыш ул. Мира, д.15 б.',\n",
       "  'phone': '8 (85563) 3-91-29',\n",
       "  'osnovan': '01.12.2005',\n",
       "  'col': '1000'},\n",
       " {'name': 'ЛДС «Айсберг»',\n",
       "  'address': 'г. Менделеевск ул. Татарстана, д. 1Б',\n",
       "  'phone': '8 (85549) 2-02-05',\n",
       "  'osnovan': '01.03.2011',\n",
       "  'col': '238'},\n",
       " {'name': 'ЛДС «Юность»',\n",
       "  'address': 'г. Мензелинск ул. Изыскателей, д. 4/1',\n",
       "  'phone': '8 (8555) 3-37-39',\n",
       "  'osnovan': '07.12.2007',\n",
       "  'col': '400'},\n",
       " {'name': 'Ледовый Дворец Спорта',\n",
       "  'address': 'г. Набережные Челны пр. Сююмбике, д. 44',\n",
       "  'phone': '8 (8552) 57-34-80',\n",
       "  'osnovan': '01.09.2004',\n",
       "  'col': '1500'},\n",
       " {'name': 'Малый ледовый дворец «Нефтехимик»',\n",
       "  'address': 'г. Нижнекамск ул.30 лет Победы,8а',\n",
       "  'phone': '+7 (8555) 39-20-25',\n",
       "  'osnovan': '01.04.1989',\n",
       "  'col': '2500'},\n",
       " {'name': 'МУ ЛДС «Ледок»',\n",
       "  'address': 'г. Нурлат ул. Гиматдинова, д. 97',\n",
       "  'phone': '8 (84345) 2-92-74',\n",
       "  'osnovan': '25.08.2006',\n",
       "  'col': '1067'},\n",
       " {'name': 'ЛДС «Пестрецы – Арена»',\n",
       "  'address': 'с. Пестрецы ул.Казанская, д.13а',\n",
       "  'phone': '8 (84367)3-04-54',\n",
       "  'osnovan': '08.08.2012',\n",
       "  'col': '230'},\n",
       " {'name': 'Слобода-Арена',\n",
       "  'address': 'пгт. Рыбная Слобода Рыбно-Слободский муниципальный район, пгт Рыбная Слобода, ул. Сююмбике, д. 20А',\n",
       "  'phone': '88436120434, +79172966860, +79196263441',\n",
       "  'osnovan': '16.12.2020',\n",
       "  'col': ''},\n",
       " {'name': 'Тюлячи-арена',\n",
       "  'address': 'с. Тюлячи РТ.,  Тюлячинский район, с.Тюлячи, ул. Олимпийская , д.1',\n",
       "  'phone': '',\n",
       "  'osnovan': '17.11.2017',\n",
       "  'col': '70'},\n",
       " {'name': 'ЛДС «Юбилейный»',\n",
       "  'address': 'с. Черемшан ул. Техническая, д. 1а',\n",
       "  'phone': '8 (84396) 2-26-84',\n",
       "  'osnovan': '26.08.2008',\n",
       "  'col': '1000'},\n",
       " {'name': 'ЛДС «Чистополь»',\n",
       "  'address': 'г. Чистополь ул. Вотякова, д.23',\n",
       "  'phone': '8 (84342) 5-91-54',\n",
       "  'osnovan': '23.11.2007',\n",
       "  'col': '1006'}]"
      ]
     },
     "execution_count": 99,
     "metadata": {},
     "output_type": "execute_result"
    }
   ],
   "source": [
    "spec_info_list"
   ]
  },
  {
   "cell_type": "code",
   "execution_count": 100,
   "id": "3f2b7bac",
   "metadata": {},
   "outputs": [],
   "source": [
    "with open(\"info_corts.csv\", \"w\") as f:\n",
    "  writer = csv.DictWriter(f, spec_info_list[0].keys())\n",
    "  writer.writeheader()\n",
    "  for r in spec_info_list:\n",
    "    writer.writerow(r)\n"
   ]
  },
  {
   "cell_type": "code",
   "execution_count": null,
   "id": "6cdb067d",
   "metadata": {},
   "outputs": [],
   "source": []
  }
 ],
 "metadata": {
  "kernelspec": {
   "display_name": "Python 3 (ipykernel)",
   "language": "python",
   "name": "python3"
  },
  "language_info": {
   "codemirror_mode": {
    "name": "ipython",
    "version": 3
   },
   "file_extension": ".py",
   "mimetype": "text/x-python",
   "name": "python",
   "nbconvert_exporter": "python",
   "pygments_lexer": "ipython3",
   "version": "3.9.7"
  }
 },
 "nbformat": 4,
 "nbformat_minor": 5
}
